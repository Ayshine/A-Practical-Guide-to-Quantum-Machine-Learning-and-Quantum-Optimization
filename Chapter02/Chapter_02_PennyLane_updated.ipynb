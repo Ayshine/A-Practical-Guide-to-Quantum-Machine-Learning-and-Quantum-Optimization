{
 "cells": [
  {
   "cell_type": "markdown",
   "metadata": {
    "id": "C6X9I0Mjdnpy"
   },
   "source": [
    "# CHAPTER 2 - The Tools of the Trade in Quantum Computing - PennyLane Code"
   ]
  },
  {
   "cell_type": "markdown",
   "metadata": {
    "id": "J_L0y3qfd1nW"
   },
   "source": [
    "*Note*: You may skip the following three cells if you have alredy installed the right versions of all the libraries mentioned in *Appendix D*. This will likely NOT be the case if you are running this notebook on a cloud service such as Google Colab.\n",
    "\n"
   ]
  },
  {
   "cell_type": "code",
   "execution_count": null,
   "metadata": {},
   "outputs": [],
   "source": [
    "conda create --name pennylane_env --file requirements_pennylane.txt"
   ]
  },
  {
   "cell_type": "code",
   "execution_count": null,
   "metadata": {},
   "outputs": [],
   "source": [
    "pip install -r requirements_pennylane.txt"
   ]
  },
  {
   "cell_type": "code",
   "execution_count": 1,
   "metadata": {
    "id": "VJhmhFS9fGf0"
   },
   "outputs": [],
   "source": [
    "import pennylane as qml"
   ]
  },
  {
   "cell_type": "code",
   "execution_count": 2,
   "metadata": {
    "id": "vrl6Z5QKfU81"
   },
   "outputs": [],
   "source": [
    "dev = qml.device(\"default.qubit\", wires=2)  # Add shots for realism"
   ]
  },
  {
   "cell_type": "code",
   "execution_count": 3,
   "metadata": {
    "id": "qfk0w-6lfVa2"
   },
   "outputs": [],
   "source": [
    "def qc():\n",
    "    qml.PauliX(wires = 0)\n",
    "    qml.Hadamard(wires = 0)\n",
    "    return qml.state()"
   ]
  },
  {
   "cell_type": "code",
   "execution_count": 4,
   "metadata": {
    "id": "4jywiOd2flkz"
   },
   "outputs": [
    {
     "name": "stdout",
     "output_type": "stream",
     "text": [
      "Circuit Output: [ 0.70710678+0.j  0.        +0.j -0.70710678+0.j  0.        +0.j]\n"
     ]
    }
   ],
   "source": [
    "# ✅ Updated QNode binding (New API)\n",
    "# Assemble the circuit & the device.\n",
    "qcirc = qml.qnode(dev)(qc)  # Bind the circuit to the device properly\n",
    "\n",
    "# ✅ Updated execution (explicit call for clarity)\n",
    "result = qcirc()\n",
    "print(\"Circuit Output:\", result)  # ✅ Print for verification"
   ]
  },
  {
   "cell_type": "code",
   "execution_count": 5,
   "metadata": {
    "id": "8cGH54ejfmV5"
   },
   "outputs": [
    {
     "name": "stdout",
     "output_type": "stream",
     "text": [
      "Quantum State: [ 0.70710678+0.j  0.        +0.j -0.70710678+0.j  0.        +0.j]\n"
     ]
    }
   ],
   "source": [
    "@qml.qnode(dev)  # We add this decorator to use the device dev.\n",
    "def qcirc():\n",
    "    qml.PauliX(wires=0)\n",
    "    qml.Hadamard(wires=0)\n",
    "    return qml.state()\n",
    "\n",
    "# Now qcirc is already a QNode. We can just run it!\n",
    "result = qcirc()\n",
    "print(\"Quantum State:\", result)  # ✅ Print for verification"
   ]
  },
  {
   "cell_type": "code",
   "execution_count": 6,
   "metadata": {
    "id": "h3Q6ewMxf7Oz"
   },
   "outputs": [],
   "source": [
    "dev = qml.device('default.qubit', wires = 1)\n",
    "@qml.qnode(dev)\n",
    "def qcirc(theta):\n",
    "    qml.RX(theta, wires = 0)\n",
    "    return qml.state()"
   ]
  },
  {
   "cell_type": "code",
   "execution_count": 7,
   "metadata": {
    "id": "8eg3Rex_f-8Q"
   },
   "outputs": [
    {
     "name": "stdout",
     "output_type": "stream",
     "text": [
      "0: ──RX(2.00)─┤  State\n"
     ]
    }
   ],
   "source": [
    "print(qml.draw(qcirc)(theta = 2))"
   ]
  },
  {
   "cell_type": "code",
   "execution_count": 8,
   "metadata": {
    "id": "iURSusrEgECx"
   },
   "outputs": [
    {
     "name": "stdout",
     "output_type": "stream",
     "text": [
      "Probs. wires [1, 2] with H in wire 1: [0.5 0.  0.5 0. ]\n",
      "Sample 1 after H: [1 1 0 0]\n",
      "Sample 2 after H x I: [[1 0]\n",
      " [0 0]\n",
      " [0 0]\n",
      " [1 0]]\n"
     ]
    }
   ],
   "source": [
    "dev = qml.device('default.qubit', wires = 3)\n",
    "\n",
    "# Get probabilities\n",
    "@qml.qnode(dev)\n",
    "def qcirc():\n",
    "    qml.Hadamard(wires = 1)\n",
    "    return qml.probs(wires = [1, 2]) # Only the last 2 wires.\n",
    "prob = qcirc()\n",
    "print(\"Probs. wires [1, 2] with H in wire 1:\", prob)\n",
    "\n",
    "# Get a sample, not having specified shots in the device.\n",
    "@qml.qnode(dev)\n",
    "def qcirc():\n",
    "    qml.Hadamard(wires = 0)\n",
    "    return qml.sample(wires = 0) # Only the first wire.\n",
    "s1 = qcirc(shots = 4) # We specify the shots here.\n",
    "print(\"Sample 1 after H:\", s1)\n",
    "\n",
    "# Get a sample with shots in the device.\n",
    "dev = qml.device('default.qubit', wires = 2, shots = 4)\n",
    "@qml.qnode(dev)\n",
    "def qcirc():\n",
    "    qml.Hadamard(wires=0)\n",
    "    return qml.sample() # Will sample all wires.\n",
    "s2 = qcirc()\n",
    "print(\"Sample 2 after H x I:\", s2)"
   ]
  },
  {
   "cell_type": "code",
   "execution_count": 9,
   "metadata": {
    "id": "yJ1Oc1Q6gOPN"
   },
   "outputs": [
    {
     "name": "stdout",
     "output_type": "stream",
     "text": [
      "The probabilities are [0.48144531 0.51855469]\n"
     ]
    }
   ],
   "source": [
    "dev = qml.device('qiskit.aer', wires = 2)\n",
    "@qml.qnode(dev)\n",
    "def qcirc():\n",
    "    qml.Hadamard(wires = 0)\n",
    "    return qml.probs(wires = 0)\n",
    "s = qcirc()\n",
    "print(\"The probabilities are\", s)"
   ]
  },
  {
   "cell_type": "markdown",
   "metadata": {
    "id": "VW0v33UbgyYD"
   },
   "source": [
    "*Note*: In the following cell, you need to replace \"1234\" with your actual IBM token. Refer to *Appendix D* in the book for instructions on how to create an account and get your token. Be very careful not to disclose your token to anyone!"
   ]
  },
  {
   "cell_type": "code",
   "execution_count": 10,
   "metadata": {
    "id": "UOakFM20hl09"
   },
   "outputs": [],
   "source": [
    "YOUR_IBM_QUANTUM_API_TOKEN = \"dabbdf2b97f2d9f3b5a903238970a19cebdfcb8aec0804f3f7ac50f53e2db340b40d158da5808e139d6e132796dc4e61ea7e9479826ed0bd3ad5ad6b60a01cac\""
   ]
  },
  {
   "cell_type": "code",
   "execution_count": 15,
   "metadata": {
    "id": "X9RsDG_hglVb"
   },
   "outputs": [
    {
     "name": "stdout",
     "output_type": "stream",
     "text": [
      "Selected Backend: ibm_brisbane\n",
      "Quantum Circuit Output: [0.48046875 0.51953125]\n"
     ]
    }
   ],
   "source": [
    "import pennylane as qml\n",
    "from qiskit_ibm_runtime import QiskitRuntimeService\n",
    "\n",
    "# ✅ Save and load IBM Quantum account credentials (only needed once)\n",
    "QiskitRuntimeService.save_account(channel=\"ibm_quantum\", token=YOUR_IBM_QUANTUM_API_TOKEN, overwrite=True)\n",
    "\n",
    "# ✅ Load the saved credentials\n",
    "service = QiskitRuntimeService(channel=\"ibm_quantum\", instance='ibm-q/open/main')\n",
    "\n",
    "# ✅ Select a real IBM quantum backend (not a simulator)\n",
    "backend = service.least_busy(operational=True, simulator=False, min_num_qubits=2)\n",
    "\n",
    "print(f\"Selected Backend: {backend.name}\")  # ✅ Debugging: Ensure correct backend selection\n",
    "\n",
    "# ✅ Initialize the PennyLane device\n",
    "dev = qml.device(\"qiskit.remote\", wires=2, backend=backend)  \n",
    "\n",
    "# ✅ Define a simple quantum circuit\n",
    "@qml.qnode(dev)\n",
    "def qcirc():\n",
    "    qml.Hadamard(wires=0)\n",
    "    return qml.probs(wires=0)\n",
    "\n",
    "# ✅ Run the quantum circuit and print the results\n",
    "result = qcirc()\n",
    "print(\"Quantum Circuit Output:\", result)\n"
   ]
  },
  {
   "cell_type": "code",
   "execution_count": 16,
   "metadata": {},
   "outputs": [
    {
     "name": "stdout",
     "output_type": "stream",
     "text": [
      "Note: you may need to restart the kernel to use updated packages.\n"
     ]
    }
   ],
   "source": [
    "pip freeze > requirements_pennylane.txt"
   ]
  },
  {
   "cell_type": "code",
   "execution_count": 14,
   "metadata": {},
   "outputs": [
    {
     "name": "stdout",
     "output_type": "stream",
     "text": [
      "['ibm-q/open/main']\n"
     ]
    }
   ],
   "source": [
    "from qiskit_ibm_runtime import QiskitRuntimeService\n",
    "\n",
    "# Load your IBM Quantum account\n",
    "service = QiskitRuntimeService(channel=\"ibm_quantum\")\n",
    "\n",
    "# Print available instances\n",
    "print(service.instances())"
   ]
  },
  {
   "cell_type": "code",
   "execution_count": null,
   "metadata": {},
   "outputs": [],
   "source": []
  }
 ],
 "metadata": {
  "colab": {
   "provenance": []
  },
  "kernelspec": {
   "display_name": "Python 3 (ipykernel)",
   "language": "python",
   "name": "python3"
  },
  "language_info": {
   "codemirror_mode": {
    "name": "ipython",
    "version": 3
   },
   "file_extension": ".py",
   "mimetype": "text/x-python",
   "name": "python",
   "nbconvert_exporter": "python",
   "pygments_lexer": "ipython3",
   "version": "3.9.21"
  }
 },
 "nbformat": 4,
 "nbformat_minor": 4
}
