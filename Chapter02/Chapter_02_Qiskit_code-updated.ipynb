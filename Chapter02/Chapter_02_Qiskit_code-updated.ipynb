{
 "cells": [
  {
   "cell_type": "markdown",
   "metadata": {
    "id": "C6X9I0Mjdnpy"
   },
   "source": [
    "# CHAPTER 2 - The Tools of the Trade in Quantum Computing - Qiskit Code"
   ]
  },
  {
   "cell_type": "markdown",
   "metadata": {
    "id": "J_L0y3qfd1nW"
   },
   "source": [
    "*Note*: You may skip the following two cells if you have alredy installed the right versions of all the libraries mentioned in *Appendix D*. This will likely NOT be the case if you are running this notebook on a cloud service such as Google Colab."
   ]
  },
  {
   "cell_type": "code",
   "execution_count": 1,
   "metadata": {
    "id": "VJhmhFS9fGf0"
   },
   "outputs": [],
   "source": [
    "from qiskit import QuantumRegister, ClassicalRegister, QuantumCircuit, transpile, assemble\n",
    "from qiskit.visualization import plot_histogram\n",
    "from qiskit_ibm_runtime import QiskitRuntimeService  # New import for IBMQ functionality\n",
    "import numpy as np"
   ]
  },
  {
   "cell_type": "code",
   "execution_count": 2,
   "metadata": {
    "id": "vrl6Z5QKfU81"
   },
   "outputs": [],
   "source": [
    "from qiskit import QuantumRegister, ClassicalRegister, QuantumCircuit\n",
    "qreg1 = QuantumRegister(size = 2, name = \"qrg1\")\n",
    "qreg2 = QuantumRegister(1, \"qrg2\")\n",
    "creg = ClassicalRegister(1, \"oldschool\")\n",
    "\n",
    "qc = QuantumCircuit(qreg1, creg, qreg2)"
   ]
  },
  {
   "cell_type": "code",
   "execution_count": 3,
   "metadata": {},
   "outputs": [],
   "source": [
    "qc = QuantumCircuit(3,1)"
   ]
  },
  {
   "cell_type": "code",
   "execution_count": 4,
   "metadata": {
    "id": "qfk0w-6lfVa2"
   },
   "outputs": [
    {
     "data": {
      "text/html": [
       "<pre style=\"word-wrap: normal;white-space: pre;background: #fff0;line-height: 1.1;font-family: &quot;Courier New&quot;,Courier,monospace\">     \n",
       "q_0: \n",
       "     \n",
       "q_1: \n",
       "     \n",
       "q_2: \n",
       "     \n",
       "c: 1/\n",
       "     </pre>"
      ],
      "text/plain": [
       "     \n",
       "q_0: \n",
       "     \n",
       "q_1: \n",
       "     \n",
       "q_2: \n",
       "     \n",
       "c: 1/\n",
       "     "
      ]
     },
     "execution_count": 4,
     "metadata": {},
     "output_type": "execute_result"
    }
   ],
   "source": [
    "qc.draw()"
   ]
  },
  {
   "cell_type": "code",
   "execution_count": 5,
   "metadata": {
    "id": "4jywiOd2flkz"
   },
   "outputs": [
    {
     "data": {
      "image/png": "[encoded data removed]",
      "text/plain": [
       "<Figure size 370.906x200.667 with 1 Axes>"
      ]
     },
     "execution_count": 5,
     "metadata": {},
     "output_type": "execute_result"
    }
   ],
   "source": [
    "import numpy as np\n",
    "\n",
    "qc = QuantumCircuit(2) # Initialise the circuit.\n",
    "\n",
    "# We can now apply the gates sequentially.\n",
    "qc.x(0)\n",
    "qc.rx(np.pi/4, 1)\n",
    "qc.cx(0, 1)\n",
    "qc.u(np.pi/3, 0, np.pi, 0)\n",
    "\n",
    "qc.draw(\"mpl\")"
   ]
  },
  {
   "cell_type": "code",
   "execution_count": 6,
   "metadata": {
    "id": "8cGH54ejfmV5"
   },
   "outputs": [],
   "source": [
    "from qiskit_aer import Aer"
   ]
  },
  {
   "cell_type": "code",
   "execution_count": 7,
   "metadata": {
    "id": "h3Q6ewMxf7Oz"
   },
   "outputs": [],
   "source": [
    "sim = Aer.get_backend('aer_simulator')"
   ]
  },
  {
   "cell_type": "code",
   "execution_count": 11,
   "metadata": {
    "id": "yJ1Oc1Q6gOPN"
   },
   "outputs": [
    {
     "name": "stdout",
     "output_type": "stream",
     "text": [
      "{'00': 519, '01': 505}\n"
     ]
    }
   ],
   "source": [
    "# Create Quantum Circuit\n",
    "qc = QuantumCircuit(2, 2)\n",
    "qc.h(0)\n",
    "qc.measure([0, 1], [0, 1])\n",
    "\n",
    "# Transpile the circuit for AerSimulator\n",
    "qc = transpile(qc, sim)\n",
    "\n",
    "# Run the circuit on AerSimulator\n",
    "result = sim.run(qc, shots=1024).result()\n",
    "\n",
    "# Get results\n",
    "counts = result.get_counts()\n",
    "print(counts)\n"
   ]
  },
  {
   "cell_type": "code",
   "execution_count": 12,
   "metadata": {
    "id": "iURSusrEgECx"
   },
   "outputs": [
    {
     "data": {
      "image/png": "[encoded data removed]",
      "text/plain": [
       "<Figure size 640x480 with 1 Axes>"
      ]
     },
     "execution_count": 12,
     "metadata": {},
     "output_type": "execute_result"
    }
   ],
   "source": [
    "from qiskit.visualization import *\n",
    "plot_histogram(counts)"
   ]
  },
  {
   "cell_type": "code",
   "execution_count": 13,
   "metadata": {
    "id": "ldaUUGyfgRvO"
   },
   "outputs": [
    {
     "name": "stdout",
     "output_type": "stream",
     "text": [
      "Operator([[ 0.7071+0.j,  0.7071-0.j],\n",
      "          [ 0.7071+0.j, -0.7071+0.j]],\n",
      "         input_dims=(2,), output_dims=(2,))\n"
     ]
    }
   ],
   "source": [
    "# Define the unitary simulator backend\n",
    "sim_u = Aer.get_backend('aer_simulator')\n",
    "\n",
    "# Create a Quantum Circuit\n",
    "qc = QuantumCircuit(1)\n",
    "qc.h(0)\n",
    "qc.save_unitary()\n",
    "\n",
    "# Transpile the circuit for the AerSimulator\n",
    "qc = transpile(qc, sim_u)\n",
    "\n",
    "# Run the circuit using AerSimulator\n",
    "result = sim_u.run(qc).result()\n",
    "\n",
    "# Get the unitary matrix\n",
    "U = result.get_unitary(decimals=4)\n",
    "print(U)"
   ]
  },
  {
   "cell_type": "markdown",
   "metadata": {
    "id": "VW0v33UbgyYD"
   },
   "source": [
    "*Note*: In the following cell, you need to replace \"1234\" with your actual IBM token. Refer to *Appendix D* in the book for instructions on how to create an account and get your token. Be very careful not to disclose your token to anyone!"
   ]
  },
  {
   "cell_type": "code",
   "execution_count": 15,
   "metadata": {
    "id": "UOakFM20hl09"
   },
   "outputs": [],
   "source": [
    "YOUR_IBM_TOKEN =\"\"\n",
    "service = QiskitRuntimeService(channel=\"ibm_quantum\", token=YOUR_IBM_TOKEN)"
   ]
  },
  {
   "cell_type": "code",
   "execution_count": 16,
   "metadata": {
    "id": "X9RsDG_hglVb"
   },
   "outputs": [
    {
     "name": "stdout",
     "output_type": "stream",
     "text": [
      "[<IBMBackend('ibm_brisbane')>, <IBMBackend('ibm_kyiv')>, <IBMBackend('ibm_sherbrooke')>]\n"
     ]
    }
   ],
   "source": [
    "# List available backends\n",
    "backends = service.backends(simulator=False)\n",
    "print(backends)"
   ]
  },
  {
   "cell_type": "code",
   "execution_count": 17,
   "metadata": {
    "id": "2ziaDYnmgWtR"
   },
   "outputs": [],
   "source": [
    "# Filter available backends with at least 5 qubits\n",
    "dev_list = [\n",
    "    backend for backend in service.backends()\n",
    "    if backend.num_qubits >= 5 and not backend.simulator\n",
    "]"
   ]
  },
  {
   "cell_type": "code",
   "execution_count": 38,
   "metadata": {
    "id": "KGMdoYOpgdST"
   },
   "outputs": [
    {
     "name": "stdout",
     "output_type": "stream",
     "text": [
      "Selected least busy backend: ibm_kyiv\n"
     ]
    }
   ],
   "source": [
    "# Find the least busy backend\n",
    "dev = min(dev_list, key=lambda b: b.status().pending_jobs)\n",
    "print(f\"Selected least busy backend: {dev.name}\")"
   ]
  },
  {
   "cell_type": "code",
   "execution_count": 57,
   "metadata": {
    "id": "OMzyNPDqiH8S"
   },
   "outputs": [],
   "source": [
    "from qiskit_ibm_runtime import Sampler, QiskitRuntimeService, Session\n",
    "from qiskit_aer import AerSimulator\n",
    "from qiskit import transpile, QuantumCircuit\n",
    "from collections import Counter\n",
    "\n",
    "# Set up a simple circuit\n",
    "qc = QuantumCircuit(2)\n",
    "qc.h(0)\n",
    "qc.cx(0, 1)\n",
    "qc.measure_all()\n",
    "\n",
    "# Run locally using AerSimulator\n",
    "sim = Aer.get_backend('aer_simulator')\n",
    "qc_sim = transpile(qc, sim)  # ✅ Transpile for the simulator\n",
    "result = sim.run(qc_sim, shots=1024).result()\n",
    "counts_sim = result.get_counts()\n",
    "\n",
    "# Run on IBM Quantum using Sampler (✅ FINAL FIX)\n",
    "with Session(backend=dev) as session:  # ✅ Create a session with the selected backend\n",
    "    sampler = Sampler(session)\n",
    "\n",
    "    # ✅ Transpile the circuit for the selected IBM backend\n",
    "    qc_ibm = transpile(qc, backend=dev)  # ✅ Ensures compatibility\n",
    "\n",
    "    job = sampler.run([qc_ibm])  # ✅ Use transpiled circuit\n",
    "\n",
    "    # Wait for the job to finish\n",
    "    job.wait_for_final_state()\n",
    "\n",
    "    result = job.result()\n",
    "    # Extract measurement results from IBM Quantum\n",
    "    raw_results = result[0].data.meas  # ✅ Get raw bitstrings\n",
    "    \n",
    "    # ✅ Extract bitstrings correctly (this is the right method!)\n",
    "    bitstrings = raw_results.get_bitstrings()  # ✅ THIS. IS. IT.\n",
    "    \n",
    "    # ✅ Convert to counts dictionary (like get_counts)\n",
    "    counts_dev = dict(Counter(bitstrings))"
   ]
  },
  {
   "cell_type": "code",
   "execution_count": 59,
   "metadata": {
    "id": "Iv3TVA1ViIyd"
   },
   "outputs": [
    {
     "name": "stdout",
     "output_type": "stream",
     "text": [
      "Simulator Results: {'00': 524, '11': 500}\n",
      "IBM Quantum Results: {'01': 64, '11': 2059, '00': 1926, '10': 47}\n"
     ]
    }
   ],
   "source": [
    "print(\"Simulator Results:\", counts_sim)\n",
    "print(\"IBM Quantum Results:\", counts_dev)"
   ]
  },
  {
   "cell_type": "code",
   "execution_count": 60,
   "metadata": {},
   "outputs": [
    {
     "name": "stdout",
     "output_type": "stream",
     "text": [
      "Note: you may need to restart the kernel to use updated packages.\n"
     ]
    }
   ],
   "source": [
    "pip freeze > requirements_qiskit.txt"
   ]
  },
  {
   "cell_type": "code",
   "execution_count": null,
   "metadata": {},
   "outputs": [],
   "source": []
  }
 ],
 "metadata": {
  "colab": {
   "provenance": []
  },
  "kernelspec": {
   "display_name": "Python 3 (ipykernel)",
   "language": "python",
   "name": "python3"
  },
  "language_info": {
   "codemirror_mode": {
    "name": "ipython",
    "version": 3
   },
   "file_extension": ".py",
   "mimetype": "text/x-python",
   "name": "python",
   "nbconvert_exporter": "python",
   "pygments_lexer": "ipython3",
   "version": "3.9.21"
  }
 },
 "nbformat": 4,
 "nbformat_minor": 4
}
